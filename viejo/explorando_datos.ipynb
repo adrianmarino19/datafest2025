{
 "cells": [
  {
   "cell_type": "code",
   "execution_count": 1,
   "id": "db39af92",
   "metadata": {},
   "outputs": [],
   "source": [
    "import numpy as np\n",
    "import pandas as pd"
   ]
  },
  {
   "cell_type": "code",
   "execution_count": 2,
   "id": "c2c8bdad",
   "metadata": {},
   "outputs": [],
   "source": [
    "df1 = pd.read_csv('dataset_1.csv')\n",
    "df2 = pd.read_csv('dataset_2.csv')"
   ]
  },
  {
   "cell_type": "markdown",
   "id": "36ddbdbb",
   "metadata": {},
   "source": [
    "# DF1"
   ]
  },
  {
   "cell_type": "code",
   "execution_count": 4,
   "id": "6b2a9337",
   "metadata": {},
   "outputs": [
    {
     "name": "stdout",
     "output_type": "stream",
     "text": [
      "<class 'pandas.core.frame.DataFrame'>\n",
      "RangeIndex: 10491 entries, 0 to 10490\n",
      "Data columns (total 8 columns):\n",
      " #   Column        Non-Null Count  Dtype \n",
      "---  ------        --------------  ----- \n",
      " 0   dataset_i_id  10491 non-null  object\n",
      " 1   i_name        10491 non-null  object\n",
      " 2   i_last_name   10491 non-null  object\n",
      " 3   i_tel_enc     10053 non-null  object\n",
      " 4   i_email_enc   10491 non-null  object\n",
      " 5   i_url_enc     853 non-null    object\n",
      " 6   i_company     7545 non-null   object\n",
      " 7   i_experience  7680 non-null   object\n",
      "dtypes: object(8)\n",
      "memory usage: 655.8+ KB\n"
     ]
    }
   ],
   "source": [
    "df1.info()"
   ]
  },
  {
   "cell_type": "code",
   "execution_count": 8,
   "id": "c0074c71",
   "metadata": {},
   "outputs": [
    {
     "data": {
      "text/plain": [
       "dataset_i_id       0\n",
       "i_name             0\n",
       "i_last_name        0\n",
       "i_tel_enc        438\n",
       "i_email_enc        0\n",
       "i_url_enc       9638\n",
       "i_company       2946\n",
       "i_experience    2811\n",
       "dtype: int64"
      ]
     },
     "execution_count": 8,
     "metadata": {},
     "output_type": "execute_result"
    }
   ],
   "source": [
    "df1.isna().sum()"
   ]
  },
  {
   "cell_type": "code",
   "execution_count": 11,
   "id": "dff77d4d",
   "metadata": {},
   "outputs": [
    {
     "data": {
      "text/plain": [
       "10491"
      ]
     },
     "execution_count": 11,
     "metadata": {},
     "output_type": "execute_result"
    }
   ],
   "source": [
    "len(df1)"
   ]
  },
  {
   "cell_type": "code",
   "execution_count": null,
   "id": "c25ad21f",
   "metadata": {},
   "outputs": [
    {
     "data": {
      "text/plain": [
       "dataset_i_id       0\n",
       "i_name          7536\n",
       "i_last_name     2201\n",
       "i_tel_enc        938\n",
       "i_email_enc      448\n",
       "i_url_enc       9671\n",
       "i_company       3675\n",
       "i_experience    4157\n",
       "dtype: int64"
      ]
     },
     "execution_count": 15,
     "metadata": {},
     "output_type": "execute_result"
    }
   ],
   "source": [
    "duplicates_per_column = df1.apply(lambda col: col.duplicated().sum())\n",
    "\n",
    "duplicates_per_column"
   ]
  },
  {
   "cell_type": "code",
   "execution_count": 17,
   "id": "69406386",
   "metadata": {},
   "outputs": [
    {
     "name": "stdout",
     "output_type": "stream",
     "text": [
      "Number of duplicated rows (excluding dataset_i_id): 448\n"
     ]
    }
   ],
   "source": [
    "# Drop the unique identifier column\n",
    "df_no_id = df1.drop(columns=['dataset_i_id'])\n",
    "\n",
    "# Find fully duplicated rows (excluding the first occurrence)\n",
    "duplicated_rows = df_no_id.duplicated()\n",
    "\n",
    "# Count how many rows are duplicated\n",
    "num_duplicates = duplicated_rows.sum()\n",
    "\n",
    "print(f\"Number of duplicated rows (excluding dataset_i_id): {num_duplicates}\")\n"
   ]
  },
  {
   "cell_type": "code",
   "execution_count": 27,
   "id": "9c5a8dfd",
   "metadata": {},
   "outputs": [
    {
     "name": "stdout",
     "output_type": "stream",
     "text": [
      "                              dataset_i_id            i_name  \\\n",
      "3578  90b9ff89-bd98-4fba-b420-d783ceae2c9a      María Jesús    \n",
      "403   6bf2d879-0c28-42a9-ab74-430be5ecbfb0      María Jesús    \n",
      "8476  05cb43c1-3eda-461b-910d-e957cbbfa111          Cristina   \n",
      "7125  3bd01197-b8c3-4249-b6c2-b448860cf91b          Cristina   \n",
      "2108  0a2af093-7214-47cd-8b3f-fc67156643ca  Francisco Javier   \n",
      "9319  7202827a-e604-4cae-bccf-c2ab7c136caa           Alberto   \n",
      "7719  1f22a163-a7c1-4fbf-9fa1-77e08a330824       jose andres   \n",
      "1509  9ba5d839-a37c-4204-bce0-949098c99aa9       jose andres   \n",
      "7332  68b37fe8-46a8-41ab-840a-448e042b0748            DANIEL   \n",
      "9748  8e517714-0be5-4589-922f-bcb226204399             SOFIA   \n",
      "\n",
      "           i_last_name                         i_tel_enc  \\\n",
      "3578      María Jesús   33bab0ef80e8159d4300d1a213f91cd7   \n",
      "403       María Jesús   33bab0ef80e8159d4300d1a213f91cd7   \n",
      "8476           Montero  c8d04ac214206b8a6615ad826734d6f3   \n",
      "7125           Montero  c8d04ac214206b8a6615ad826734d6f3   \n",
      "2108  Rodri­guez Lopez  8321f615ce7de750558902ec50d4b6ff   \n",
      "9319            Bernal  2d4abb5e9c83eb3fd7e245fe65254ac4   \n",
      "7719         tobaruela  4fec244a34ed4ef41df8cf7550c2b78c   \n",
      "1509         tobaruela  4fec244a34ed4ef41df8cf7550c2b78c   \n",
      "7332            JURADO  e1cb26650590715be0c3ff27faa2e55e   \n",
      "9748          APARICIO  345d772d7960b9ada46d7132b48da966   \n",
      "\n",
      "                           i_email_enc                         i_url_enc  \\\n",
      "3578  aa43ffa1d1a3b0ffbf300243d16b3833  74ca0b7441feb8403d52c6d37979da37   \n",
      "403   aa43ffa1d1a3b0ffbf300243d16b3833  74ca0b7441feb8403d52c6d37979da37   \n",
      "8476  25311fd20442d1b1bfb07253ca7ebb41                               NaN   \n",
      "7125  25311fd20442d1b1bfb07253ca7ebb41                               NaN   \n",
      "2108  2ce1b0e0b520fabab99d39c939031ba0                               NaN   \n",
      "9319  c4239f184c56c5add3d943b7b573a883                               NaN   \n",
      "7719  6a6c66231198925fc73864d6cf86572a                               NaN   \n",
      "1509  6a6c66231198925fc73864d6cf86572a                               NaN   \n",
      "7332  66908dd0a396615198094f10faff3e03                               NaN   \n",
      "9748  6d85e8b179a5c42ebc47428ef9492284                               NaN   \n",
      "\n",
      "                                              i_company  \\\n",
      "3578  Games Work | Cronos Iberica  | Cronos Iberica ...   \n",
      "403   Games Work | Cronos Iberica  | Cronos Iberica ...   \n",
      "8476                                            fosival   \n",
      "7125                                            fosival   \n",
      "2108                              SERMICRO | SERMALOGIC   \n",
      "9319                    Maple Systems | Agrupo Sistemas   \n",
      "7719  EMPRESA CONSULTORA | EMPRESA CONSULTORA | EMPR...   \n",
      "1509  EMPRESA CONSULTORA | EMPRESA CONSULTORA | EMPR...   \n",
      "7332                             GENERAL ELEVADORES XXI   \n",
      "9748                               CORREOS Y TELÉGRAFOS   \n",
      "\n",
      "                                           i_experience  \n",
      "3578   Productora de Video Juegos. |  Asistencia Téc...  \n",
      "403    Productora de Video Juegos. |  Asistencia Téc...  \n",
      "8476                                                ...  \n",
      "7125                                                ...  \n",
      "2108                                            72 | 72  \n",
      "9319                                            72 | 72  \n",
      "7719  AALISTA PROGRAMADOR | ANALISTA PROGRAMADOR | A...  \n",
      "1509  AALISTA PROGRAMADOR | ANALISTA PROGRAMADOR | A...  \n",
      "7332                          ADMINISTRADOR DE SISTEMAS  \n",
      "9748                          ADMINISTRADOR DE SISTEMAS  \n"
     ]
    }
   ],
   "source": [
    "# Find all experience values that appear more than once\n",
    "duplicated_experience_values = df1['i_experience'].value_counts()\n",
    "duplicated_experience_values = duplicated_experience_values[duplicated_experience_values > 1].index\n",
    "\n",
    "# Filter rows that have duplicated experience\n",
    "df_duplicated_experience = df1[df1['i_experience'].isin(duplicated_experience_values)]\n",
    "\n",
    "# Sort by i_experience to group similar entries\n",
    "df_duplicated_experience = df_duplicated_experience.sort_values('i_experience')\n",
    "\n",
    "# Display the first few rows\n",
    "print(df_duplicated_experience.head(10))  # or use .sample(10) to see random ones\n"
   ]
  },
  {
   "cell_type": "code",
   "execution_count": 29,
   "id": "7a0e03a9",
   "metadata": {},
   "outputs": [
    {
     "data": {
      "text/plain": [
       "1867"
      ]
     },
     "execution_count": 29,
     "metadata": {},
     "output_type": "execute_result"
    }
   ],
   "source": [
    "len(df_duplicated_experience)"
   ]
  },
  {
   "cell_type": "code",
   "execution_count": 32,
   "id": "310ed624",
   "metadata": {},
   "outputs": [
    {
     "data": {
      "text/plain": [
       "np.int64(4157)"
      ]
     },
     "execution_count": 32,
     "metadata": {},
     "output_type": "execute_result"
    }
   ],
   "source": [
    "extra_dup_count = df1['i_experience'].duplicated().sum()\n",
    "extra_dup_count"
   ]
  },
  {
   "cell_type": "markdown",
   "id": "37609bc3",
   "metadata": {},
   "source": [
    "# DF2"
   ]
  },
  {
   "cell_type": "code",
   "execution_count": 12,
   "id": "18dca917",
   "metadata": {},
   "outputs": [
    {
     "data": {
      "text/html": [
       "<div>\n",
       "<style scoped>\n",
       "    .dataframe tbody tr th:only-of-type {\n",
       "        vertical-align: middle;\n",
       "    }\n",
       "\n",
       "    .dataframe tbody tr th {\n",
       "        vertical-align: top;\n",
       "    }\n",
       "\n",
       "    .dataframe thead th {\n",
       "        text-align: right;\n",
       "    }\n",
       "</style>\n",
       "<table border=\"1\" class=\"dataframe\">\n",
       "  <thead>\n",
       "    <tr style=\"text-align: right;\">\n",
       "      <th></th>\n",
       "      <th>dataset_m_id</th>\n",
       "      <th>m_name</th>\n",
       "      <th>m_last_name</th>\n",
       "      <th>m_tel_enc</th>\n",
       "      <th>m_email_enc</th>\n",
       "      <th>m_url_enc</th>\n",
       "      <th>m_company</th>\n",
       "      <th>m_experience</th>\n",
       "    </tr>\n",
       "  </thead>\n",
       "  <tbody>\n",
       "    <tr>\n",
       "      <th>0</th>\n",
       "      <td>b6fc3cfd-7228-462c-a77e-f6dec37e6e5b</td>\n",
       "      <td>David</td>\n",
       "      <td>Hernandez</td>\n",
       "      <td>NaN</td>\n",
       "      <td>NaN</td>\n",
       "      <td>53edfbdc28d60e007263a8c51e674ae1</td>\n",
       "      <td>Dominion Industry &amp; Infraestructures</td>\n",
       "      <td>Técnico Informatico</td>\n",
       "    </tr>\n",
       "    <tr>\n",
       "      <th>1</th>\n",
       "      <td>4ef568a6-2578-45b8-b705-df2c0832b045</td>\n",
       "      <td>Sacha - Laurent</td>\n",
       "      <td>Van de sijpe Bueno</td>\n",
       "      <td>NaN</td>\n",
       "      <td>NaN</td>\n",
       "      <td>600aedb80edb9cb99e173c6699a64c87</td>\n",
       "      <td>Sopra Steria | everis | everis | Gfi España | ...</td>\n",
       "      <td>Senior Developer | Developer | Junior Java Dev...</td>\n",
       "    </tr>\n",
       "    <tr>\n",
       "      <th>2</th>\n",
       "      <td>5a51bde2-0ce5-4456-9516-717f6741e428</td>\n",
       "      <td>Óscar</td>\n",
       "      <td>Martínez Pérez</td>\n",
       "      <td>NaN</td>\n",
       "      <td>40c826ea0f7d0e7a3d6c88612346d7d1</td>\n",
       "      <td>83ea3da726a55639182e24a076bf06ed</td>\n",
       "      <td>Generalitat de Catalunya | Universitat Pompeu ...</td>\n",
       "      <td>Data Analyst. Servei de Vigilància Epidemiològ...</td>\n",
       "    </tr>\n",
       "    <tr>\n",
       "      <th>3</th>\n",
       "      <td>69a42137-3ce6-4e7a-8cbf-3e4c3d13bfd9</td>\n",
       "      <td>Daniel</td>\n",
       "      <td>Martínez Rodríguez</td>\n",
       "      <td>NaN</td>\n",
       "      <td>NaN</td>\n",
       "      <td>10f6a11e2a25cebf7dc4da93557bddfe</td>\n",
       "      <td>IECISA | DXC Technology | Ricoh España | Seres...</td>\n",
       "      <td>Administrador de sistemas (Unix-Sap) | Service...</td>\n",
       "    </tr>\n",
       "    <tr>\n",
       "      <th>4</th>\n",
       "      <td>578bd391-3801-4fa3-8674-289328b7c780</td>\n",
       "      <td>Carlos</td>\n",
       "      <td>Garcia Fernandez</td>\n",
       "      <td>NaN</td>\n",
       "      <td>9ff551a759efabfa3e63fae118c6b95b</td>\n",
       "      <td>0249c33ab3373704eb2e761f574f07ed</td>\n",
       "      <td>Leuko | R&amp;D Developer/Architect Team leader | ...</td>\n",
       "      <td>Investor | Program Manager | Director academic...</td>\n",
       "    </tr>\n",
       "  </tbody>\n",
       "</table>\n",
       "</div>"
      ],
      "text/plain": [
       "                           dataset_m_id           m_name         m_last_name  \\\n",
       "0  b6fc3cfd-7228-462c-a77e-f6dec37e6e5b            David           Hernandez   \n",
       "1  4ef568a6-2578-45b8-b705-df2c0832b045  Sacha - Laurent  Van de sijpe Bueno   \n",
       "2  5a51bde2-0ce5-4456-9516-717f6741e428            Óscar      Martínez Pérez   \n",
       "3  69a42137-3ce6-4e7a-8cbf-3e4c3d13bfd9           Daniel  Martínez Rodríguez   \n",
       "4  578bd391-3801-4fa3-8674-289328b7c780           Carlos    Garcia Fernandez   \n",
       "\n",
       "  m_tel_enc                       m_email_enc  \\\n",
       "0       NaN                               NaN   \n",
       "1       NaN                               NaN   \n",
       "2       NaN  40c826ea0f7d0e7a3d6c88612346d7d1   \n",
       "3       NaN                               NaN   \n",
       "4       NaN  9ff551a759efabfa3e63fae118c6b95b   \n",
       "\n",
       "                          m_url_enc  \\\n",
       "0  53edfbdc28d60e007263a8c51e674ae1   \n",
       "1  600aedb80edb9cb99e173c6699a64c87   \n",
       "2  83ea3da726a55639182e24a076bf06ed   \n",
       "3  10f6a11e2a25cebf7dc4da93557bddfe   \n",
       "4  0249c33ab3373704eb2e761f574f07ed   \n",
       "\n",
       "                                           m_company  \\\n",
       "0               Dominion Industry & Infraestructures   \n",
       "1  Sopra Steria | everis | everis | Gfi España | ...   \n",
       "2  Generalitat de Catalunya | Universitat Pompeu ...   \n",
       "3  IECISA | DXC Technology | Ricoh España | Seres...   \n",
       "4  Leuko | R&D Developer/Architect Team leader | ...   \n",
       "\n",
       "                                        m_experience  \n",
       "0                                Técnico Informatico  \n",
       "1  Senior Developer | Developer | Junior Java Dev...  \n",
       "2  Data Analyst. Servei de Vigilància Epidemiològ...  \n",
       "3  Administrador de sistemas (Unix-Sap) | Service...  \n",
       "4  Investor | Program Manager | Director academic...  "
      ]
     },
     "execution_count": 12,
     "metadata": {},
     "output_type": "execute_result"
    }
   ],
   "source": [
    "df2.head()"
   ]
  },
  {
   "cell_type": "code",
   "execution_count": 18,
   "id": "5d73ccd8",
   "metadata": {},
   "outputs": [
    {
     "data": {
      "text/plain": [
       "dataset_m_id       0\n",
       "m_name             9\n",
       "m_last_name       71\n",
       "m_tel_enc       7686\n",
       "m_email_enc     7037\n",
       "m_url_enc       2387\n",
       "m_company       2652\n",
       "m_experience     718\n",
       "dtype: int64"
      ]
     },
     "execution_count": 18,
     "metadata": {},
     "output_type": "execute_result"
    }
   ],
   "source": [
    "df2.isna().sum()"
   ]
  },
  {
   "cell_type": "code",
   "execution_count": 19,
   "id": "c2a9c306",
   "metadata": {},
   "outputs": [
    {
     "data": {
      "text/plain": [
       "10491"
      ]
     },
     "execution_count": 19,
     "metadata": {},
     "output_type": "execute_result"
    }
   ],
   "source": [
    "len(df2)"
   ]
  },
  {
   "cell_type": "code",
   "execution_count": 21,
   "id": "23eb6ef4",
   "metadata": {},
   "outputs": [
    {
     "data": {
      "text/plain": [
       "dataset_m_id       0\n",
       "m_name          8413\n",
       "m_last_name     3241\n",
       "m_tel_enc       7822\n",
       "m_email_enc     7144\n",
       "m_url_enc       2574\n",
       "m_company       2889\n",
       "m_experience    2835\n",
       "dtype: int64"
      ]
     },
     "execution_count": 21,
     "metadata": {},
     "output_type": "execute_result"
    }
   ],
   "source": [
    "duplicates_per_column = df2.apply(lambda col: col.duplicated().sum())\n",
    "\n",
    "duplicates_per_column"
   ]
  },
  {
   "cell_type": "code",
   "execution_count": 23,
   "id": "0c1ba7e6",
   "metadata": {},
   "outputs": [
    {
     "name": "stdout",
     "output_type": "stream",
     "text": [
      "Number of duplicated rows (excluding dataset_i_id): 267\n"
     ]
    }
   ],
   "source": [
    "# Drop the unique identifier column\n",
    "df_no_id = df2.drop(columns=['dataset_m_id'])\n",
    "\n",
    "# Find fully duplicated rows (excluding the first occurrence)\n",
    "duplicated_rows = df_no_id.duplicated()\n",
    "\n",
    "# Count how many rows are duplicated\n",
    "num_duplicates = duplicated_rows.sum()\n",
    "\n",
    "print(f\"Number of duplicated rows (excluding dataset_i_id): {num_duplicates}\")\n"
   ]
  },
  {
   "cell_type": "code",
   "execution_count": null,
   "id": "a7ab0354",
   "metadata": {},
   "outputs": [],
   "source": []
  }
 ],
 "metadata": {
  "kernelspec": {
   "display_name": "datafest2025",
   "language": "python",
   "name": "python3"
  },
  "language_info": {
   "codemirror_mode": {
    "name": "ipython",
    "version": 3
   },
   "file_extension": ".py",
   "mimetype": "text/x-python",
   "name": "python",
   "nbconvert_exporter": "python",
   "pygments_lexer": "ipython3",
   "version": "3.10.6"
  }
 },
 "nbformat": 4,
 "nbformat_minor": 5
}
